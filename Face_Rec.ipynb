{
  "nbformat": 4,
  "nbformat_minor": 0,
  "metadata": {
    "colab": {
      "provenance": [],
      "gpuType": "T4",
      "authorship_tag": "ABX9TyMbhMMw9eelCjPoqg1DN2xJ",
      "include_colab_link": true
    },
    "kernelspec": {
      "name": "python3",
      "display_name": "Python 3"
    },
    "language_info": {
      "name": "python"
    },
    "accelerator": "GPU"
  },
  "cells": [
    {
      "cell_type": "markdown",
      "metadata": {
        "id": "view-in-github",
        "colab_type": "text"
      },
      "source": [
        "<a href=\"https://colab.research.google.com/github/Bevier19jac/3DDigitalDataset/blob/main/Face_Rec.ipynb\" target=\"_parent\"><img src=\"https://colab.research.google.com/assets/colab-badge.svg\" alt=\"Open In Colab\"/></a>"
      ]
    },
    {
      "cell_type": "code",
      "execution_count": 2,
      "metadata": {
        "colab": {
          "base_uri": "https://localhost:8080/"
        },
        "id": "SMB1P-zSwO6a",
        "outputId": "cf63cd0b-b5ea-44b7-dde2-dc0560f5f6b3"
      },
      "outputs": [
        {
          "output_type": "stream",
          "name": "stdout",
          "text": [
            "Collecting face_recognition\n",
            "  Downloading face_recognition-1.3.0-py2.py3-none-any.whl.metadata (21 kB)\n",
            "Requirement already satisfied: opencv-python in /usr/local/lib/python3.10/dist-packages (4.10.0.84)\n",
            "Collecting face-recognition-models>=0.3.0 (from face_recognition)\n",
            "  Downloading face_recognition_models-0.3.0.tar.gz (100.1 MB)\n",
            "\u001b[2K     \u001b[90m━━━━━━━━━━━━━━━━━━━━━━━━━━━━━━━━━━━━━━━━\u001b[0m \u001b[32m100.1/100.1 MB\u001b[0m \u001b[31m8.1 MB/s\u001b[0m eta \u001b[36m0:00:00\u001b[0m\n",
            "\u001b[?25h  Preparing metadata (setup.py) ... \u001b[?25l\u001b[?25hdone\n",
            "Requirement already satisfied: Click>=6.0 in /usr/local/lib/python3.10/dist-packages (from face_recognition) (8.1.7)\n",
            "Requirement already satisfied: dlib>=19.7 in /usr/local/lib/python3.10/dist-packages (from face_recognition) (19.24.2)\n",
            "Requirement already satisfied: numpy in /usr/local/lib/python3.10/dist-packages (from face_recognition) (1.26.4)\n",
            "Requirement already satisfied: Pillow in /usr/local/lib/python3.10/dist-packages (from face_recognition) (10.4.0)\n",
            "Downloading face_recognition-1.3.0-py2.py3-none-any.whl (15 kB)\n",
            "Building wheels for collected packages: face-recognition-models\n",
            "  Building wheel for face-recognition-models (setup.py) ... \u001b[?25l\u001b[?25hdone\n",
            "  Created wheel for face-recognition-models: filename=face_recognition_models-0.3.0-py2.py3-none-any.whl size=100566164 sha256=de2c9485b039450947cb0b430ade9582227e482a593a6412e55141aa863c022e\n",
            "  Stored in directory: /root/.cache/pip/wheels/7a/eb/cf/e9eced74122b679557f597bb7c8e4c739cfcac526db1fd523d\n",
            "Successfully built face-recognition-models\n",
            "Installing collected packages: face-recognition-models, face_recognition\n",
            "Successfully installed face-recognition-models-0.3.0 face_recognition-1.3.0\n",
            "Requirement already satisfied: dlib in /usr/local/lib/python3.10/dist-packages (19.24.2)\n",
            "Requirement already satisfied: opencv-python in /usr/local/lib/python3.10/dist-packages (4.10.0.84)\n",
            "Requirement already satisfied: numpy>=1.21.2 in /usr/local/lib/python3.10/dist-packages (from opencv-python) (1.26.4)\n"
          ]
        }
      ],
      "source": [
        "!pip install face_recognition opencv-python\n",
        "!pip install dlib\n",
        "!pip install opencv-python\n"
      ]
    },
    {
      "cell_type": "code",
      "source": [
        "import face_recognition\n",
        "import cv2\n",
        "import numpy as np\n",
        "import os\n",
        "from google.colab.patches import cv2_imshow\n",
        "from google.colab import drive\n"
      ],
      "metadata": {
        "id": "cDqELiUOwPzC"
      },
      "execution_count": 3,
      "outputs": []
    },
    {
      "cell_type": "code",
      "source": [
        "# Mount Google Drive\n",
        "drive.mount('/content/drive')\n"
      ],
      "metadata": {
        "colab": {
          "base_uri": "https://localhost:8080/"
        },
        "id": "sE9cJpKCwP1o",
        "outputId": "86d4fd72-75d7-49ee-a71d-bdcb4f6b9ffe"
      },
      "execution_count": 4,
      "outputs": [
        {
          "output_type": "stream",
          "name": "stdout",
          "text": [
            "Mounted at /content/drive\n"
          ]
        }
      ]
    },
    {
      "cell_type": "code",
      "source": [
        "# Unzip known and unknown images\n",
        "!unzip /content/drive/MyDrive/known.zip -d /content/known\n",
        "!unzip /content/drive/MyDrive/unknown.zip -d /content/unknown\n"
      ],
      "metadata": {
        "colab": {
          "base_uri": "https://localhost:8080/"
        },
        "id": "uIPM_fX7wP31",
        "outputId": "582b30eb-f33d-4f69-c6ce-63137fb66c71"
      },
      "execution_count": 5,
      "outputs": [
        {
          "output_type": "stream",
          "name": "stdout",
          "text": [
            "Archive:  /content/drive/MyDrive/known.zip\n",
            "  inflating: /content/known/known/Donald Trump.jpg  \n",
            "  inflating: /content/known/known/Aaron Peirsol.jpg  \n",
            "  inflating: /content/known/known/Ben Affleck.jpg  \n",
            "  inflating: /content/known/known/Adam Sandler.jpg  \n",
            "  inflating: /content/known/known/Adam Scott.jpg  \n",
            "  inflating: /content/known/known/Mike Pence.jpg  \n",
            "Archive:  /content/drive/MyDrive/unknown.zip\n",
            "  inflating: /content/unknown/unknown/Ben_Affleck_0007.jpg  \n",
            "  inflating: /content/unknown/unknown/Zydrunas_Ilgauskas_0001.jpg  \n",
            "  inflating: /content/unknown/unknown/Aaron_Peirsol_0003.jpg  \n",
            "  inflating: /content/unknown/unknown/Adam_Sandler_0004.jpg  \n",
            "  inflating: /content/unknown/unknown/Adam_Scott_0002.jpg  \n"
          ]
        }
      ]
    },
    {
      "cell_type": "code",
      "source": [
        "# Path to known images\n",
        "KNOWN_IMAGE_PATH = '/content/known/'\n",
        "\n",
        "# Initialize list of known face encodings and their labels\n",
        "known_face_encodings = []\n",
        "known_face_names = []\n",
        "\n",
        "# Iterate through the known images\n",
        "for filename in os.listdir(KNOWN_IMAGE_PATH):\n",
        "    if filename.endswith('.jpg') or filename.endswith('.png'):\n",
        "        # Load image\n",
        "        image = face_recognition.load_image_file(KNOWN_IMAGE_PATH + filename)\n",
        "\n",
        "        # Get face encodings (only for the first face found in the image)\n",
        "        face_encoding = face_recognition.face_encodings(image)[0]\n",
        "\n",
        "        # Add the face encoding and the corresponding name\n",
        "        known_face_encodings.append(face_encoding)\n",
        "        known_face_names.append(filename.split('.')[0])  # Use filename as the label\n"
      ],
      "metadata": {
        "id": "CZ5Tg0N0wP6G"
      },
      "execution_count": 6,
      "outputs": []
    },
    {
      "cell_type": "code",
      "source": [
        "# Path to unknown images\n",
        "UNKNOWN_IMAGE_PATH = '/content/unknown/'\n",
        "\n",
        "# Iterate through the unknown images\n",
        "for filename in os.listdir(UNKNOWN_IMAGE_PATH):\n",
        "    if filename.endswith('.jpg') or filename.endswith('.png'):\n",
        "        # Load the unknown image\n",
        "        unknown_image = face_recognition.load_image_file(UNKNOWN_IMAGE_PATH + filename)\n",
        "\n",
        "        # Find all face locations and encodings in the unknown image\n",
        "        face_locations = face_recognition.face_locations(unknown_image)\n",
        "        face_encodings = face_recognition.face_encodings(unknown_image, face_locations)\n",
        "\n",
        "        # Convert the image to BGR for OpenCV (since OpenCV uses BGR)\n",
        "        unknown_image_bgr = cv2.cvtColor(unknown_image, cv2.COLOR_RGB2BGR)\n",
        "\n",
        "        # Loop over each face found in the unknown image\n",
        "        for (top, right, bottom, left), face_encoding in zip(face_locations, face_encodings):\n",
        "            # Check if the face matches any known faces\n",
        "            matches = face_recognition.compare_faces(known_face_encodings, face_encoding)\n",
        "            name = \"Unknown\"  # Default label if no match is found\n",
        "\n",
        "            # Find the known face with the smallest distance\n",
        "            face_distances = face_recognition.face_distance(known_face_encodings, face_encoding)\n",
        "            best_match_index = np.argmin(face_distances)\n",
        "\n",
        "            # If there's a match, use the name of the best match\n",
        "            if matches[best_match_index]:\n",
        "                name = known_face_names[best_match_index]\n",
        "\n",
        "            # Draw a rectangle around the face\n",
        "            cv2.rectangle(unknown_image_bgr, (left, top), (right, bottom), (0, 255, 0), 2)\n",
        "\n",
        "            # Draw the name below the face\n",
        "            cv2.rectangle(unknown_image_bgr, (left, bottom - 35), (right, bottom), (0, 255, 0), cv2.FILLED)\n",
        "            font = cv2.FONT_HERSHEY_DUPLEX\n",
        "            cv2.putText(unknown_image_bgr, name, (left + 6, bottom - 6), font, 1.0, (255, 255, 255), 1)\n",
        "\n",
        "        # Display the resulting image\n",
        "        cv2_imshow(unknown_image_bgr)\n"
      ],
      "metadata": {
        "id": "j-UC1SpnwP8M"
      },
      "execution_count": 7,
      "outputs": []
    },
    {
      "cell_type": "code",
      "source": [
        "# Track missing people\n",
        "missing_people = [\"Mike Pence\", \"Donald Trump\"]\n",
        "for name in known_face_names:\n",
        "    if name not in missing_people:\n",
        "        missing_people.append(name)\n",
        "\n",
        "print(f\"Missing people: {missing_people}\")\n"
      ],
      "metadata": {
        "colab": {
          "base_uri": "https://localhost:8080/"
        },
        "id": "I4UYDS_RwP-i",
        "outputId": "18cec718-dcdd-4802-ac3d-7b3fe27e4f34"
      },
      "execution_count": 8,
      "outputs": [
        {
          "output_type": "stream",
          "name": "stdout",
          "text": [
            "Missing people: ['Mike Pence', 'Donald Trump']\n"
          ]
        }
      ]
    },
    {
      "cell_type": "code",
      "source": [],
      "metadata": {
        "id": "-9G_eFqgwQAs"
      },
      "execution_count": null,
      "outputs": []
    },
    {
      "cell_type": "code",
      "source": [],
      "metadata": {
        "id": "zLJ2Ji7CwQC_"
      },
      "execution_count": null,
      "outputs": []
    },
    {
      "cell_type": "code",
      "source": [],
      "metadata": {
        "id": "dBG5ZwdYwQFQ"
      },
      "execution_count": null,
      "outputs": []
    }
  ]
}