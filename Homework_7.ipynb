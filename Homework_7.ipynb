{
  "nbformat": 4,
  "nbformat_minor": 0,
  "metadata": {
    "colab": {
      "provenance": [],
      "authorship_tag": "ABX9TyMjSbSrzQz6eVdJyM0Qy65B",
      "include_colab_link": true
    },
    "kernelspec": {
      "name": "python3",
      "display_name": "Python 3"
    },
    "language_info": {
      "name": "python"
    }
  },
  "cells": [
    {
      "cell_type": "markdown",
      "metadata": {
        "id": "view-in-github",
        "colab_type": "text"
      },
      "source": [
        "<a href=\"https://colab.research.google.com/github/Bevier19jac/3DDigitalDataset/blob/main/Homework_7.ipynb\" target=\"_parent\"><img src=\"https://colab.research.google.com/assets/colab-badge.svg\" alt=\"Open In Colab\"/></a>"
      ]
    },
    {
      "cell_type": "code",
      "source": [
        "from tensorflow.keras.datasets import fashion_mnist, mnist\n",
        "import numpy as np\n",
        "\n",
        "# Load Fashion-MNIST dataset\n",
        "(x_train_fashion, y_train_fashion), (x_test_fashion, y_test_fashion) = fashion_mnist.load_data()\n",
        "\n",
        "# Load MNIST dataset\n",
        "(x_train_mnist, y_train_mnist), (x_test_mnist, y_test_mnist) = mnist.load_data()\n",
        "\n",
        "# Normalize the data by scaling the pixel values to [0, 1]\n",
        "x_train_fashion = x_train_fashion / 255.0\n",
        "x_test_fashion = x_test_fashion / 255.0\n",
        "x_train_mnist = x_train_mnist / 255.0\n",
        "x_test_mnist = x_test_mnist / 255.0\n",
        "\n",
        "# Reshape the data to include a channel dimension (for CNNs)\n",
        "x_train_fashion = np.expand_dims(x_train_fashion, -1)\n",
        "x_test_fashion = np.expand_dims(x_test_fashion, -1)\n",
        "x_train_mnist = np.expand_dims(x_train_mnist, -1)\n",
        "x_test_mnist = np.expand_dims(x_test_mnist, -1)\n"
      ],
      "metadata": {
        "id": "mgeFnSmNsbj4"
      },
      "execution_count": 16,
      "outputs": []
    },
    {
      "cell_type": "code",
      "source": [
        "from tensorflow.keras import models, layers\n",
        "\n",
        "# Define the CNN model\n",
        "def build_model():\n",
        "    model = models.Sequential()\n",
        "    model.add(layers.Conv2D(32, (3, 3), activation='relu', input_shape=(28, 28, 1)))\n",
        "    model.add(layers.MaxPooling2D((2, 2)))\n",
        "    model.add(layers.Conv2D(64, (3, 3), activation='relu'))\n",
        "    model.add(layers.MaxPooling2D((2, 2)))\n",
        "    model.add(layers.Conv2D(64, (3, 3), activation='relu'))\n",
        "    model.add(layers.Flatten())\n",
        "    model.add(layers.Dense(64, activation='relu'))\n",
        "    model.add(layers.Dense(10, activation='softmax'))  # 10 output classes (both datasets)\n",
        "\n",
        "    # Compile\n",
        "    model.compile(optimizer='adam', loss='sparse_categorical_crossentropy', metrics=['accuracy'])\n",
        "    return model\n"
      ],
      "metadata": {
        "id": "5IiZX2vRsbnq"
      },
      "execution_count": 17,
      "outputs": []
    },
    {
      "cell_type": "code",
      "source": [
        "import time\n",
        "\n",
        "# Build the model\n",
        "model_fashion = build_model()\n",
        "\n",
        "# Measure the time\n",
        "start_time = time.time()\n",
        "\n",
        "# Train the model on Fashion-MNIST\n",
        "history_fashion = model_fashion.fit(x_train_fashion, y_train_fashion, epochs=5, validation_data=(x_test_fashion, y_test_fashion))\n",
        "\n",
        "# Record training time\n",
        "fashion_training_time = time.time() - start_time\n",
        "\n",
        "print(f\"Fashion-MNIST training time: {fashion_training_time:.2f} seconds\")\n"
      ],
      "metadata": {
        "colab": {
          "base_uri": "https://localhost:8080/"
        },
        "id": "GWUivZ2Tsbq1",
        "outputId": "f8629f3d-de15-4175-84a5-77ee43827392"
      },
      "execution_count": 18,
      "outputs": [
        {
          "output_type": "stream",
          "name": "stdout",
          "text": [
            "Epoch 1/5\n",
            "\u001b[1m1875/1875\u001b[0m \u001b[32m━━━━━━━━━━━━━━━━━━━━\u001b[0m\u001b[37m\u001b[0m \u001b[1m62s\u001b[0m 33ms/step - accuracy: 0.7425 - loss: 0.7104 - val_accuracy: 0.8614 - val_loss: 0.3869\n",
            "Epoch 2/5\n",
            "\u001b[1m1875/1875\u001b[0m \u001b[32m━━━━━━━━━━━━━━━━━━━━\u001b[0m\u001b[37m\u001b[0m \u001b[1m62s\u001b[0m 33ms/step - accuracy: 0.8765 - loss: 0.3369 - val_accuracy: 0.8752 - val_loss: 0.3314\n",
            "Epoch 3/5\n",
            "\u001b[1m1875/1875\u001b[0m \u001b[32m━━━━━━━━━━━━━━━━━━━━\u001b[0m\u001b[37m\u001b[0m \u001b[1m82s\u001b[0m 33ms/step - accuracy: 0.8964 - loss: 0.2819 - val_accuracy: 0.8964 - val_loss: 0.2859\n",
            "Epoch 4/5\n",
            "\u001b[1m1875/1875\u001b[0m \u001b[32m━━━━━━━━━━━━━━━━━━━━\u001b[0m\u001b[37m\u001b[0m \u001b[1m80s\u001b[0m 32ms/step - accuracy: 0.9077 - loss: 0.2492 - val_accuracy: 0.8943 - val_loss: 0.2949\n",
            "Epoch 5/5\n",
            "\u001b[1m1875/1875\u001b[0m \u001b[32m━━━━━━━━━━━━━━━━━━━━\u001b[0m\u001b[37m\u001b[0m \u001b[1m83s\u001b[0m 33ms/step - accuracy: 0.9153 - loss: 0.2260 - val_accuracy: 0.9068 - val_loss: 0.2557\n",
            "Fashion-MNIST training time: 390.62 seconds\n"
          ]
        }
      ]
    },
    {
      "cell_type": "code",
      "source": [
        "# Build the model again for MNIST\n",
        "model_mnist = build_model()\n",
        "\n",
        "# Measure the time\n",
        "start_time = time.time()\n",
        "\n",
        "# Train the model on MNIST\n",
        "history_mnist = model_mnist.fit(x_train_mnist, y_train_mnist, epochs=5, validation_data=(x_test_mnist, y_test_mnist))\n",
        "\n",
        "# Record training time\n",
        "mnist_training_time = time.time() - start_time\n",
        "\n",
        "print(f\"MNIST training time: {mnist_training_time:.2f} seconds\")"
      ],
      "metadata": {
        "colab": {
          "base_uri": "https://localhost:8080/"
        },
        "id": "tUcMkwkZsbuX",
        "outputId": "d1ee80dc-0c19-4d8f-a24c-c48fc24e8278"
      },
      "execution_count": 19,
      "outputs": [
        {
          "output_type": "stream",
          "name": "stdout",
          "text": [
            "Epoch 1/5\n",
            "\u001b[1m1875/1875\u001b[0m \u001b[32m━━━━━━━━━━━━━━━━━━━━\u001b[0m\u001b[37m\u001b[0m \u001b[1m62s\u001b[0m 32ms/step - accuracy: 0.8887 - loss: 0.3420 - val_accuracy: 0.9862 - val_loss: 0.0399\n",
            "Epoch 2/5\n",
            "\u001b[1m1875/1875\u001b[0m \u001b[32m━━━━━━━━━━━━━━━━━━━━\u001b[0m\u001b[37m\u001b[0m \u001b[1m60s\u001b[0m 32ms/step - accuracy: 0.9839 - loss: 0.0517 - val_accuracy: 0.9885 - val_loss: 0.0371\n",
            "Epoch 3/5\n",
            "\u001b[1m1875/1875\u001b[0m \u001b[32m━━━━━━━━━━━━━━━━━━━━\u001b[0m\u001b[37m\u001b[0m \u001b[1m82s\u001b[0m 32ms/step - accuracy: 0.9899 - loss: 0.0333 - val_accuracy: 0.9893 - val_loss: 0.0353\n",
            "Epoch 4/5\n",
            "\u001b[1m1875/1875\u001b[0m \u001b[32m━━━━━━━━━━━━━━━━━━━━\u001b[0m\u001b[37m\u001b[0m \u001b[1m82s\u001b[0m 32ms/step - accuracy: 0.9915 - loss: 0.0252 - val_accuracy: 0.9898 - val_loss: 0.0329\n",
            "Epoch 5/5\n",
            "\u001b[1m1875/1875\u001b[0m \u001b[32m━━━━━━━━━━━━━━━━━━━━\u001b[0m\u001b[37m\u001b[0m \u001b[1m59s\u001b[0m 32ms/step - accuracy: 0.9941 - loss: 0.0190 - val_accuracy: 0.9914 - val_loss: 0.0294\n",
            "MNIST training time: 345.34 seconds\n"
          ]
        }
      ]
    },
    {
      "cell_type": "code",
      "source": [
        "# Compare training times\n",
        "print(f\"Fashion-MNIST training time: {fashion_training_time:.2f} seconds\")\n",
        "print(f\"MNIST training time: {mnist_training_time:.2f} seconds\")\n",
        "\n",
        "# Compare accuracy\n",
        "fashion_accuracy = history_fashion.history['val_accuracy'][-1]\n",
        "mnist_accuracy = history_mnist.history['val_accuracy'][-1]\n",
        "\n",
        "print(f\"Fashion-MNIST validation accuracy: {fashion_accuracy:.4f}\")\n",
        "print(f\"MNIST validation accuracy: {mnist_accuracy:.4f}\")\n"
      ],
      "metadata": {
        "colab": {
          "base_uri": "https://localhost:8080/"
        },
        "id": "GtAJB9o5w5qp",
        "outputId": "272aca48-c26a-4dc4-f7a2-953f1124c7b7"
      },
      "execution_count": 20,
      "outputs": [
        {
          "output_type": "stream",
          "name": "stdout",
          "text": [
            "Fashion-MNIST training time: 390.62 seconds\n",
            "MNIST training time: 345.34 seconds\n",
            "Fashion-MNIST validation accuracy: 0.9068\n",
            "MNIST validation accuracy: 0.9914\n"
          ]
        }
      ]
    },
    {
      "cell_type": "code",
      "source": [
        "# Modify the CNN model to include an additional Dense layer with 4096 neurons\n",
        "def build_model_with_4096():\n",
        "    model = models.Sequential()\n",
        "    model.add(layers.Conv2D(32, (3, 3), activation='relu', input_shape=(28, 28, 1)))\n",
        "    model.add(layers.MaxPooling2D((2, 2)))\n",
        "    model.add(layers.Conv2D(64, (3, 3), activation='relu'))\n",
        "    model.add(layers.MaxPooling2D((2, 2)))\n",
        "    model.add(layers.Conv2D(64, (3, 3), activation='relu'))\n",
        "    model.add(layers.Flatten())\n",
        "    model.add(layers.Dense(4096, activation='relu'))  # New dense layer with 4096 neurons\n",
        "    model.add(layers.Dense(64, activation='relu'))\n",
        "    model.add(layers.Dense(10, activation='softmax'))\n",
        "\n",
        "    # Compile the model\n",
        "    model.compile(optimizer='adam', loss='sparse_categorical_crossentropy', metrics=['accuracy'])\n",
        "    return model\n"
      ],
      "metadata": {
        "id": "p98c-HPow9lC"
      },
      "execution_count": 21,
      "outputs": []
    },
    {
      "cell_type": "code",
      "source": [
        "# Build the modified model\n",
        "model_fashion_4096 = build_model_with_4096()\n",
        "\n",
        "# Measure the time\n",
        "start_time = time.time()\n",
        "\n",
        "# Train the model on Fashion-MNIST with the additional Dense layer\n",
        "history_fashion_4096 = model_fashion_4096.fit(x_train_fashion, y_train_fashion, epochs=5, validation_data=(x_test_fashion, y_test_fashion))\n",
        "\n",
        "# Record training time\n",
        "fashion_4096_training_time = time.time() - start_time\n",
        "\n",
        "# Print results\n",
        "print(f\"Fashion-MNIST with 4096 Dense layer training time: {fashion_4096_training_time:.2f} seconds\")\n",
        "fashion_4096_accuracy = history_fashion_4096.history['val_accuracy'][-1]\n",
        "print(f\"Fashion-MNIST with 4096 Dense layer validation accuracy: {fashion_4096_accuracy:.4f}\")\n"
      ],
      "metadata": {
        "colab": {
          "base_uri": "https://localhost:8080/"
        },
        "id": "6FY6n8Nmw_6-",
        "outputId": "2d03dbe9-63b2-4a6a-80ea-02c091f7a813"
      },
      "execution_count": null,
      "outputs": [
        {
          "output_type": "stream",
          "name": "stderr",
          "text": [
            "/usr/local/lib/python3.10/dist-packages/keras/src/layers/convolutional/base_conv.py:107: UserWarning: Do not pass an `input_shape`/`input_dim` argument to a layer. When using Sequential models, prefer using an `Input(shape)` object as the first layer in the model instead.\n",
            "  super().__init__(activity_regularizer=activity_regularizer, **kwargs)\n"
          ]
        },
        {
          "output_type": "stream",
          "name": "stdout",
          "text": [
            "Epoch 1/5\n",
            "\u001b[1m1875/1875\u001b[0m \u001b[32m━━━━━━━━━━━━━━━━━━━━\u001b[0m\u001b[37m\u001b[0m \u001b[1m154s\u001b[0m 81ms/step - accuracy: 0.7523 - loss: 0.6553 - val_accuracy: 0.8748 - val_loss: 0.3389\n",
            "Epoch 2/5\n",
            "\u001b[1m1875/1875\u001b[0m \u001b[32m━━━━━━━━━━━━━━━━━━━━\u001b[0m\u001b[37m\u001b[0m \u001b[1m203s\u001b[0m 81ms/step - accuracy: 0.8879 - loss: 0.3061 - val_accuracy: 0.8843 - val_loss: 0.3179\n",
            "Epoch 3/5\n",
            "\u001b[1m1875/1875\u001b[0m \u001b[32m━━━━━━━━━━━━━━━━━━━━\u001b[0m\u001b[37m\u001b[0m \u001b[1m200s\u001b[0m 81ms/step - accuracy: 0.9006 - loss: 0.2648 - val_accuracy: 0.8919 - val_loss: 0.2963\n",
            "Epoch 4/5\n",
            "\u001b[1m 274/1875\u001b[0m \u001b[32m━━\u001b[0m\u001b[37m━━━━━━━━━━━━━━━━━━\u001b[0m \u001b[1m2:06\u001b[0m 79ms/step - accuracy: 0.9121 - loss: 0.2292"
          ]
        }
      ]
    }
  ]
}