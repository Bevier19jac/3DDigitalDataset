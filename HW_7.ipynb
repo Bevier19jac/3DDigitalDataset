{
  "nbformat": 4,
  "nbformat_minor": 0,
  "metadata": {
    "colab": {
      "provenance": [],
      "authorship_tag": "ABX9TyP/i09vHCQzD8TQNcMUc+Rv",
      "include_colab_link": true
    },
    "kernelspec": {
      "name": "python3",
      "display_name": "Python 3"
    },
    "language_info": {
      "name": "python"
    }
  },
  "cells": [
    {
      "cell_type": "markdown",
      "metadata": {
        "id": "view-in-github",
        "colab_type": "text"
      },
      "source": [
        "<a href=\"https://colab.research.google.com/github/Bevier19jac/3DDigitalDataset/blob/main/HW_7.ipynb\" target=\"_parent\"><img src=\"https://colab.research.google.com/assets/colab-badge.svg\" alt=\"Open In Colab\"/></a>"
      ]
    },
    {
      "cell_type": "code",
      "source": [
        "from tensorflow.keras import models, layers\n",
        "from tensorflow.keras.datasets import fashion_mnist, mnist\n",
        "import numpy as np\n",
        "import time\n"
      ],
      "metadata": {
        "id": "e722KaIFKuht"
      },
      "execution_count": 5,
      "outputs": []
    },
    {
      "cell_type": "code",
      "source": [
        "# Load the Fashion-MNIST dataset\n",
        "(x_train_fashion, y_train_fashion), (x_test_fashion, y_test_fashion) = fashion_mnist.load_data()\n",
        "\n",
        "# Load the MNIST dataset\n",
        "(x_train_mnist, y_train_mnist), (x_test_mnist, y_test_mnist) = mnist.load_data()\n",
        "\n",
        "# Normalize the datasets (scale pixel values to be between 0 and 1)\n",
        "x_train_fashion = x_train_fashion / 255.0\n",
        "x_test_fashion = x_test_fashion / 255.0\n",
        "x_train_mnist = x_train_mnist / 255.0\n",
        "x_test_mnist = x_test_mnist / 255.0\n",
        "\n",
        "# Reshape datasets to add a channel dimension (needed for CNN input)\n",
        "x_train_fashion = np.expand_dims(x_train_fashion, -1)\n",
        "x_test_fashion = np.expand_dims(x_test_fashion, -1)\n",
        "x_train_mnist = np.expand_dims(x_train_mnist, -1)\n",
        "x_test_mnist = np.expand_dims(x_test_mnist, -1)\n"
      ],
      "metadata": {
        "colab": {
          "base_uri": "https://localhost:8080/"
        },
        "id": "cH7z4lgHKukm",
        "outputId": "0717697f-ae05-47c5-ea0e-72e8bff37c35"
      },
      "execution_count": 6,
      "outputs": [
        {
          "output_type": "stream",
          "name": "stdout",
          "text": [
            "Downloading data from https://storage.googleapis.com/tensorflow/tf-keras-datasets/train-labels-idx1-ubyte.gz\n",
            "\u001b[1m29515/29515\u001b[0m \u001b[32m━━━━━━━━━━━━━━━━━━━━\u001b[0m\u001b[37m\u001b[0m \u001b[1m0s\u001b[0m 0us/step\n",
            "Downloading data from https://storage.googleapis.com/tensorflow/tf-keras-datasets/train-images-idx3-ubyte.gz\n",
            "\u001b[1m26421880/26421880\u001b[0m \u001b[32m━━━━━━━━━━━━━━━━━━━━\u001b[0m\u001b[37m\u001b[0m \u001b[1m0s\u001b[0m 0us/step\n",
            "Downloading data from https://storage.googleapis.com/tensorflow/tf-keras-datasets/t10k-labels-idx1-ubyte.gz\n",
            "\u001b[1m5148/5148\u001b[0m \u001b[32m━━━━━━━━━━━━━━━━━━━━\u001b[0m\u001b[37m\u001b[0m \u001b[1m0s\u001b[0m 1us/step\n",
            "Downloading data from https://storage.googleapis.com/tensorflow/tf-keras-datasets/t10k-images-idx3-ubyte.gz\n",
            "\u001b[1m4422102/4422102\u001b[0m \u001b[32m━━━━━━━━━━━━━━━━━━━━\u001b[0m\u001b[37m\u001b[0m \u001b[1m0s\u001b[0m 0us/step\n",
            "Downloading data from https://storage.googleapis.com/tensorflow/tf-keras-datasets/mnist.npz\n",
            "\u001b[1m11490434/11490434\u001b[0m \u001b[32m━━━━━━━━━━━━━━━━━━━━\u001b[0m\u001b[37m\u001b[0m \u001b[1m0s\u001b[0m 0us/step\n"
          ]
        }
      ]
    },
    {
      "cell_type": "code",
      "source": [
        "def build_model():\n",
        "    model = models.Sequential()\n",
        "    model.add(layers.Conv2D(32, (3, 3), activation='relu', input_shape=(28, 28, 1)))\n",
        "    model.add(layers.MaxPooling2D((2, 2)))\n",
        "    model.add(layers.Conv2D(64, (3, 3), activation='relu'))\n",
        "    model.add(layers.MaxPooling2D((2, 2)))\n",
        "    model.add(layers.Conv2D(64, (3, 3), activation='relu'))\n",
        "    model.add(layers.Flatten())\n",
        "    model.add(layers.Dense(64, activation='relu'))\n",
        "    model.add(layers.Dense(10, activation='softmax'))  # 10 output classes (both datasets)\n",
        "\n",
        "    # Compile the model\n",
        "    model.compile(optimizer='adam', loss='sparse_categorical_crossentropy', metrics=['accuracy'])\n",
        "    return model\n"
      ],
      "metadata": {
        "id": "qftjxvNaKuno"
      },
      "execution_count": 7,
      "outputs": []
    },
    {
      "cell_type": "code",
      "source": [
        "# Build the model\n",
        "model_fashion = build_model()\n",
        "\n",
        "# Measure the training time\n",
        "start_time = time.time()\n",
        "\n",
        "# Train the model on Fashion-MNIST\n",
        "history_fashion = model_fashion.fit(x_train_fashion, y_train_fashion, epochs=5, validation_data=(x_test_fashion, y_test_fashion))\n",
        "\n",
        "# Record training time\n",
        "fashion_training_time = time.time() - start_time\n",
        "\n",
        "print(f\"Fashion-MNIST training time: {fashion_training_time:.2f} seconds\")\n"
      ],
      "metadata": {
        "colab": {
          "base_uri": "https://localhost:8080/"
        },
        "id": "xtNYBDnjKuqh",
        "outputId": "53cb2af7-1a7d-446f-c6a9-fd6bb0d8841b"
      },
      "execution_count": 8,
      "outputs": [
        {
          "output_type": "stream",
          "name": "stdout",
          "text": [
            "Epoch 1/5\n",
            "\u001b[1m1875/1875\u001b[0m \u001b[32m━━━━━━━━━━━━━━━━━━━━\u001b[0m\u001b[37m\u001b[0m \u001b[1m73s\u001b[0m 38ms/step - accuracy: 0.7536 - loss: 0.6744 - val_accuracy: 0.8638 - val_loss: 0.3767\n",
            "Epoch 2/5\n",
            "\u001b[1m1875/1875\u001b[0m \u001b[32m━━━━━━━━━━━━━━━━━━━━\u001b[0m\u001b[37m\u001b[0m \u001b[1m63s\u001b[0m 34ms/step - accuracy: 0.8827 - loss: 0.3240 - val_accuracy: 0.8833 - val_loss: 0.3147\n",
            "Epoch 3/5\n",
            "\u001b[1m1875/1875\u001b[0m \u001b[32m━━━━━━━━━━━━━━━━━━━━\u001b[0m\u001b[37m\u001b[0m \u001b[1m84s\u001b[0m 35ms/step - accuracy: 0.9007 - loss: 0.2695 - val_accuracy: 0.8942 - val_loss: 0.2901\n",
            "Epoch 4/5\n",
            "\u001b[1m1875/1875\u001b[0m \u001b[32m━━━━━━━━━━━━━━━━━━━━\u001b[0m\u001b[37m\u001b[0m \u001b[1m79s\u001b[0m 33ms/step - accuracy: 0.9116 - loss: 0.2383 - val_accuracy: 0.9015 - val_loss: 0.2703\n",
            "Epoch 5/5\n",
            "\u001b[1m1875/1875\u001b[0m \u001b[32m━━━━━━━━━━━━━━━━━━━━\u001b[0m\u001b[37m\u001b[0m \u001b[1m83s\u001b[0m 34ms/step - accuracy: 0.9200 - loss: 0.2164 - val_accuracy: 0.9054 - val_loss: 0.2739\n",
            "Fashion-MNIST training time: 400.62 seconds\n"
          ]
        }
      ]
    },
    {
      "cell_type": "code",
      "source": [
        "# Build the model for MNIST\n",
        "model_mnist = build_model()\n",
        "\n",
        "# Measure the training time\n",
        "start_time = time.time()\n",
        "\n",
        "# Train the model on MNIST\n",
        "history_mnist = model_mnist.fit(x_train_mnist, y_train_mnist, epochs=5, validation_data=(x_test_mnist, y_test_mnist))\n",
        "\n",
        "# Record training time\n",
        "mnist_training_time = time.time() - start_time\n",
        "\n",
        "print(f\"MNIST training time: {mnist_training_time:.2f} seconds\")\n"
      ],
      "metadata": {
        "colab": {
          "base_uri": "https://localhost:8080/"
        },
        "id": "61gm_Xm1Kus4",
        "outputId": "fae3542a-47cb-4c8a-9e19-c7491e7bba40"
      },
      "execution_count": 9,
      "outputs": [
        {
          "output_type": "stream",
          "name": "stdout",
          "text": [
            "Epoch 1/5\n",
            "\u001b[1m1875/1875\u001b[0m \u001b[32m━━━━━━━━━━━━━━━━━━━━\u001b[0m\u001b[37m\u001b[0m \u001b[1m66s\u001b[0m 34ms/step - accuracy: 0.8992 - loss: 0.3244 - val_accuracy: 0.9881 - val_loss: 0.0404\n",
            "Epoch 2/5\n",
            "\u001b[1m1875/1875\u001b[0m \u001b[32m━━━━━━━━━━━━━━━━━━━━\u001b[0m\u001b[37m\u001b[0m \u001b[1m81s\u001b[0m 34ms/step - accuracy: 0.9846 - loss: 0.0495 - val_accuracy: 0.9868 - val_loss: 0.0442\n",
            "Epoch 3/5\n",
            "\u001b[1m1875/1875\u001b[0m \u001b[32m━━━━━━━━━━━━━━━━━━━━\u001b[0m\u001b[37m\u001b[0m \u001b[1m87s\u001b[0m 36ms/step - accuracy: 0.9894 - loss: 0.0323 - val_accuracy: 0.9898 - val_loss: 0.0309\n",
            "Epoch 4/5\n",
            "\u001b[1m1875/1875\u001b[0m \u001b[32m━━━━━━━━━━━━━━━━━━━━\u001b[0m\u001b[37m\u001b[0m \u001b[1m59s\u001b[0m 32ms/step - accuracy: 0.9933 - loss: 0.0215 - val_accuracy: 0.9905 - val_loss: 0.0289\n",
            "Epoch 5/5\n",
            "\u001b[1m1875/1875\u001b[0m \u001b[32m━━━━━━━━━━━━━━━━━━━━\u001b[0m\u001b[37m\u001b[0m \u001b[1m82s\u001b[0m 31ms/step - accuracy: 0.9940 - loss: 0.0183 - val_accuracy: 0.9904 - val_loss: 0.0348\n",
            "MNIST training time: 375.58 seconds\n"
          ]
        }
      ]
    },
    {
      "cell_type": "code",
      "source": [
        "# Compare training times\n",
        "print(f\"Fashion-MNIST training time: {fashion_training_time:.2f} seconds\")\n",
        "print(f\"MNIST training time: {mnist_training_time:.2f} seconds\")\n",
        "\n",
        "# Compare validation accuracy\n",
        "fashion_accuracy = history_fashion.history['val_accuracy'][-1]\n",
        "mnist_accuracy = history_mnist.history['val_accuracy'][-1]\n",
        "\n",
        "print(f\"Fashion-MNIST validation accuracy: {fashion_accuracy:.4f}\")\n",
        "print(f\"MNIST validation accuracy: {mnist_accuracy:.4f}\")\n"
      ],
      "metadata": {
        "colab": {
          "base_uri": "https://localhost:8080/"
        },
        "id": "GtfqLLyfKuwA",
        "outputId": "8b8fb1a6-3c2e-483a-a14a-9e9218d91b5d"
      },
      "execution_count": 10,
      "outputs": [
        {
          "output_type": "stream",
          "name": "stdout",
          "text": [
            "Fashion-MNIST training time: 400.62 seconds\n",
            "MNIST training time: 375.58 seconds\n",
            "Fashion-MNIST validation accuracy: 0.9054\n",
            "MNIST validation accuracy: 0.9904\n"
          ]
        }
      ]
    },
    {
      "cell_type": "code",
      "source": [
        "def build_model_with_4096():\n",
        "    model = models.Sequential()\n",
        "    model.add(layers.Conv2D(32, (3, 3), activation='relu', input_shape=(28, 28, 1)))\n",
        "    model.add(layers.MaxPooling2D((2, 2)))\n",
        "    model.add(layers.Conv2D(64, (3, 3), activation='relu'))\n",
        "    model.add(layers.MaxPooling2D((2, 2)))\n",
        "    model.add(layers.Conv2D(64, (3, 3), activation='relu'))\n",
        "    model.add(layers.Flatten())\n",
        "    model.add(layers.Dense(4096, activation='relu'))  # Added Dense layer with 4096 neurons\n",
        "    model.add(layers.Dense(64, activation='relu'))\n",
        "    model.add(layers.Dense(10, activation='softmax'))  # Output layer\n",
        "\n",
        "    # Compile the model\n",
        "    model.compile(optimizer='adam', loss='sparse_categorical_crossentropy', metrics=['accuracy'])\n",
        "    return model\n"
      ],
      "metadata": {
        "id": "bZU-YX-NKuyO"
      },
      "execution_count": 11,
      "outputs": []
    },
    {
      "cell_type": "code",
      "source": [
        "# Build the modified model\n",
        "model_fashion_4096 = build_model_with_4096()\n",
        "\n",
        "# Measure the training time\n",
        "start_time = time.time()\n",
        "\n",
        "# Train the model on Fashion-MNIST with the additional Dense layer\n",
        "history_fashion_4096 = model_fashion_4096.fit(x_train_fashion, y_train_fashion, epochs=5, validation_data=(x_test_fashion, y_test_fashion))\n",
        "\n",
        "# Record training time\n",
        "fashion_4096_training_time = time.time() - start_time\n",
        "\n",
        "# Print results\n",
        "print(f\"Fashion-MNIST with 4096 Dense layer training time: {fashion_4096_training_time:.2f} seconds\")\n",
        "fashion_4096_accuracy = history_fashion_4096.history['val_accuracy'][-1]\n",
        "print(f\"Fashion-MNIST with 4096 Dense layer validation accuracy: {fashion_4096_accuracy:.4f}\")\n"
      ],
      "metadata": {
        "colab": {
          "base_uri": "https://localhost:8080/"
        },
        "id": "L7CJ7n2_Ku0t",
        "outputId": "31741137-e43f-4ba5-d1ee-7ca40a577c7b"
      },
      "execution_count": 12,
      "outputs": [
        {
          "output_type": "stream",
          "name": "stdout",
          "text": [
            "Epoch 1/5\n",
            "\u001b[1m1875/1875\u001b[0m \u001b[32m━━━━━━━━━━━━━━━━━━━━\u001b[0m\u001b[37m\u001b[0m \u001b[1m156s\u001b[0m 82ms/step - accuracy: 0.7632 - loss: 0.6435 - val_accuracy: 0.8632 - val_loss: 0.3719\n",
            "Epoch 2/5\n",
            "\u001b[1m1875/1875\u001b[0m \u001b[32m━━━━━━━━━━━━━━━━━━━━\u001b[0m\u001b[37m\u001b[0m \u001b[1m200s\u001b[0m 81ms/step - accuracy: 0.8854 - loss: 0.3062 - val_accuracy: 0.8889 - val_loss: 0.3061\n",
            "Epoch 3/5\n",
            "\u001b[1m1875/1875\u001b[0m \u001b[32m━━━━━━━━━━━━━━━━━━━━\u001b[0m\u001b[37m\u001b[0m \u001b[1m196s\u001b[0m 78ms/step - accuracy: 0.9031 - loss: 0.2604 - val_accuracy: 0.8934 - val_loss: 0.2926\n",
            "Epoch 4/5\n",
            "\u001b[1m1875/1875\u001b[0m \u001b[32m━━━━━━━━━━━━━━━━━━━━\u001b[0m\u001b[37m\u001b[0m \u001b[1m202s\u001b[0m 78ms/step - accuracy: 0.9126 - loss: 0.2329 - val_accuracy: 0.8962 - val_loss: 0.2953\n",
            "Epoch 5/5\n",
            "\u001b[1m1875/1875\u001b[0m \u001b[32m━━━━━━━━━━━━━━━━━━━━\u001b[0m\u001b[37m\u001b[0m \u001b[1m207s\u001b[0m 81ms/step - accuracy: 0.9257 - loss: 0.2006 - val_accuracy: 0.8983 - val_loss: 0.2910\n",
            "Fashion-MNIST with 4096 Dense layer training time: 961.54 seconds\n",
            "Fashion-MNIST with 4096 Dense layer validation accuracy: 0.8983\n"
          ]
        }
      ]
    },
    {
      "cell_type": "code",
      "source": [],
      "metadata": {
        "id": "6HzgxkE5Ku3m"
      },
      "execution_count": null,
      "outputs": []
    }
  ]
}